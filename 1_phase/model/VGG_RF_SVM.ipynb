{
 "cells": [
  {
   "cell_type": "code",
   "execution_count": 1,
   "metadata": {},
   "outputs": [],
   "source": [
    "import numpy as np \n",
    "import matplotlib.pyplot as plt\n",
    "import glob\n",
    "import cv2\n",
    "from PIL import Image\n",
    "from keras.models import Model, Sequential\n",
    "from keras.layers import Dense, Flatten, Conv2D, MaxPooling2D, BatchNormalization\n",
    "import os\n",
    "import tensorflow as tf\n",
    "from sklearn.model_selection import train_test_split\n",
    "from keras.utils import to_categorical\n",
    "from tensorflow.keras.applications import VGG19\n",
    "from sklearn import metrics\n",
    "from sklearn.metrics import confusion_matrix\n",
    "import seaborn as sns\n",
    "import time"
   ]
  },
  {
   "cell_type": "code",
   "execution_count": 2,
   "metadata": {},
   "outputs": [],
   "source": [
    "SIZE = 256\n",
    "np.random.seed(42)\n",
    "tf.keras.utils.set_random_seed(42)\n",
    "tf.config.experimental.enable_op_determinism()"
   ]
  },
  {
   "cell_type": "code",
   "execution_count": 3,
   "metadata": {},
   "outputs": [],
   "source": [
    "image_directory = 'data/'\n",
    "train_images = []\n",
    "train_labels = [] \n",
    "\n",
    "parasitized_images = os.listdir(image_directory + 'malaria/')\n",
    "# Go thru every image and resize + add label.\n",
    "for i, image_name in enumerate(parasitized_images):\n",
    "\n",
    "    if (image_name.split('.')[1] == 'png'):\n",
    "        image = cv2.imread(image_directory + 'malaria/' + image_name)\n",
    "        image = Image.fromarray(image, 'RGB')\n",
    "        image = image.resize((SIZE, SIZE))\n",
    "        train_images.append(np.array(image))\n",
    "        train_labels.append(1)\n",
    "        \n",
    "uninfected_images = os.listdir(image_directory + 'no_malaria/')\n",
    "for i, image_name in enumerate(uninfected_images):\n",
    "    if (image_name.split('.')[1] == 'png'):\n",
    "        image = cv2.imread(image_directory + 'no_malaria/' + image_name)\n",
    "        image = Image.fromarray(image, 'RGB')\n",
    "        image = image.resize((SIZE, SIZE))\n",
    "        train_images.append(np.array(image))\n",
    "        train_labels.append(0)"
   ]
  },
  {
   "cell_type": "code",
   "execution_count": 4,
   "metadata": {},
   "outputs": [],
   "source": [
    "X_train, X_test, y_train, y_test = train_test_split(train_images, np.array(train_labels),\n",
    "                                                    test_size=0.20, random_state=0)"
   ]
  },
  {
   "cell_type": "code",
   "execution_count": 5,
   "metadata": {},
   "outputs": [],
   "source": [
    "VGG_model = VGG19(weights='imagenet', include_top=False, input_shape=(SIZE, SIZE, 3))\n",
    "for layer in VGG_model.layers:\n",
    "\tlayer.trainable = False"
   ]
  },
  {
   "cell_type": "code",
   "execution_count": 6,
   "metadata": {},
   "outputs": [
    {
     "name": "stdout",
     "output_type": "stream",
     "text": [
      "5/5 [==============================] - 23s 4s/step\n"
     ]
    }
   ],
   "source": [
    "feature_extractor=VGG_model.predict(np.array(X_train))"
   ]
  },
  {
   "cell_type": "code",
   "execution_count": 7,
   "metadata": {},
   "outputs": [],
   "source": [
    "features = feature_extractor.reshape(feature_extractor.shape[0], -1)"
   ]
  },
  {
   "cell_type": "code",
   "execution_count": 8,
   "metadata": {},
   "outputs": [
    {
     "name": "stdout",
     "output_type": "stream",
     "text": [
      "2/2 [==============================] - 6s 1s/step\n"
     ]
    }
   ],
   "source": [
    "from sklearn.ensemble import RandomForestClassifier\n",
    "RF_model = RandomForestClassifier(n_estimators = 50, random_state = 42)\n",
    "\n",
    "RF_model.fit(features, y_train)\n",
    "\n",
    "start_RF = time.perf_counter()\n",
    "X_test_feature = VGG_model.predict(np.array(X_test))\n",
    "X_test_features = X_test_feature.reshape(X_test_feature.shape[0], -1)\n",
    "prediction_RF = RF_model.predict(X_test_features)\n",
    "runtimes_RF = time.perf_counter() - start_RF\n"
   ]
  },
  {
   "cell_type": "code",
   "execution_count": 9,
   "metadata": {},
   "outputs": [
    {
     "name": "stdout",
     "output_type": "stream",
     "text": [
      "Accuracy: 70.00%\n",
      "F1: 0.68\n",
      "AuC: 0.70\n",
      "Precision : 65.00%\n",
      "Recall : 72.22%\n",
      "Run time: 5.78s \n"
     ]
    }
   ],
   "source": [
    "# Random forest\n",
    "print (\"Accuracy: {:.2f}%\".format(metrics.accuracy_score(y_test, prediction_RF)*100))\n",
    "print(\"F1: {:.2f}\".format(metrics.f1_score(y_test,prediction_RF)))\n",
    "print(\"AuC: {:.2f}\".format(metrics.roc_auc_score(y_test, prediction_RF)))\n",
    "print(\"Precision : {:.2f}%\".format(metrics.precision_score(y_test, prediction_RF)*100))\n",
    "print(\"Recall : {:.2f}%\".format(metrics.recall_score(np.array(y_test), prediction_RF)*100))\n",
    "print(\"Run time: {:.2f}s \".format(runtimes_RF))"
   ]
  },
  {
   "cell_type": "code",
   "execution_count": 10,
   "metadata": {},
   "outputs": [
    {
     "data": {
      "text/plain": [
       "[Text(0, 0.5, 'Negative'), Text(0, 1.5, 'Positive')]"
      ]
     },
     "execution_count": 10,
     "metadata": {},
     "output_type": "execute_result"
    },
    {
     "data": {
      "image/png": "[encoded data removed]",
      "text/plain": [
       "<Figure size 640x480 with 2 Axes>"
      ]
     },
     "metadata": {},
     "output_type": "display_data"
    }
   ],
   "source": [
    "cm = confusion_matrix(y_test, prediction_RF)\n",
    "\n",
    "group_names = [\"True Neg\",\"False Pos\",\"False Neg\",\"True Pos\"]\n",
    "group_counts = [\"{0:0.0f}\".format(value) for value in\n",
    "                cm.flatten()]\n",
    "\n",
    "labels = [f\"{v1}\\n{v2}\" for v1, v2 in\n",
    "          zip(group_names,group_counts)]\n",
    "labels = np.asarray(labels).reshape(2,2)\n",
    "\n",
    "ax = sns.heatmap(cm, annot=labels,fmt='', cmap='Blues')\n",
    "ax.set_xlabel(\"Predicted Label\", fontsize=14, labelpad=20)\n",
    "ax.xaxis.set_ticklabels(['Negative', 'Positive'])\n",
    "ax.set_ylabel(\"Actual Label\", fontsize=14, labelpad=20)\n",
    "ax.yaxis.set_ticklabels(['Negative', 'Positive'])"
   ]
  },
  {
   "cell_type": "code",
   "execution_count": 11,
   "metadata": {},
   "outputs": [
    {
     "name": "stdout",
     "output_type": "stream",
     "text": [
      "2/2 [==============================] - 6s 1s/step\n"
     ]
    }
   ],
   "source": [
    "# SVM\n",
    "from sklearn import svm\n",
    "svm_model = svm.SVC(C=0.1, gamma=1, kernel='linear', probability=True)\n",
    "\n",
    "svm_model.fit(features,y_train)\n",
    "\n",
    "start_SVM = time.perf_counter()\n",
    "X_test_feature = VGG_model.predict(np.array(X_test))\n",
    "X_test_features = X_test_feature.reshape(X_test_feature.shape[0], -1)\n",
    "prediction_SVM = svm_model.predict(X_test_features)\n",
    "runtimes_SVM = time.perf_counter() - start_SVM"
   ]
  },
  {
   "cell_type": "code",
   "execution_count": 12,
   "metadata": {},
   "outputs": [
    {
     "name": "stdout",
     "output_type": "stream",
     "text": [
      "Accuracy: 77.50%\n",
      "F1: 0.79\n",
      "AuC: 0.79\n",
      "Precision : 68.00%\n",
      "Recall : 94.44%\n",
      "Run time: 5.77s \n"
     ]
    }
   ],
   "source": [
    "# SVM\n",
    "print (\"Accuracy: {:.2f}%\".format(metrics.accuracy_score(y_test, prediction_SVM)*100))\n",
    "print(\"F1: {:.2f}\".format(metrics.f1_score(y_test,prediction_SVM)))\n",
    "print(\"AuC: {:.2f}\".format(metrics.roc_auc_score(y_test, prediction_SVM)))\n",
    "print(\"Precision : {:.2f}%\".format(metrics.precision_score(y_test, prediction_SVM)*100))\n",
    "print(\"Recall : {:.2f}%\".format(metrics.recall_score(np.array(y_test), prediction_SVM)*100))\n",
    "print(\"Run time: {:.2f}s \".format(runtimes_SVM))\n"
   ]
  },
  {
   "cell_type": "code",
   "execution_count": 13,
   "metadata": {},
   "outputs": [
    {
     "data": {
      "text/plain": [
       "[Text(0, 0.5, 'Negative'), Text(0, 1.5, 'Positive')]"
      ]
     },
     "execution_count": 13,
     "metadata": {},
     "output_type": "execute_result"
    },
    {
     "data": {
      "image/png": "[encoded data removed]",
      "text/plain": [
       "<Figure size 640x480 with 2 Axes>"
      ]
     },
     "metadata": {},
     "output_type": "display_data"
    }
   ],
   "source": [
    "cm = confusion_matrix(y_test, prediction_SVM)\n",
    "\n",
    "group_names = [\"True Neg\",\"False Pos\",\"False Neg\",\"True Pos\"]\n",
    "group_counts = [\"{0:0.0f}\".format(value) for value in\n",
    "                cm.flatten()]\n",
    "\n",
    "labels = [f\"{v1}\\n{v2}\" for v1, v2 in\n",
    "          zip(group_names,group_counts)]\n",
    "labels = np.asarray(labels).reshape(2,2)\n",
    "\n",
    "ax = sns.heatmap(cm, annot=labels,fmt='', cmap='Blues')\n",
    "ax.set_xlabel(\"Predicted Label\", fontsize=14, labelpad=20)\n",
    "ax.xaxis.set_ticklabels(['Negative', 'Positive'])\n",
    "ax.set_ylabel(\"Actual Label\", fontsize=14, labelpad=20)\n",
    "ax.yaxis.set_ticklabels(['Negative', 'Positive'])"
   ]
  },
  {
   "cell_type": "code",
   "execution_count": 14,
   "metadata": {},
   "outputs": [
    {
     "name": "stderr",
     "output_type": "stream",
     "text": [
      "c:\\Users\\ADMIN\\anaconda3\\envs\\image-process\\lib\\site-packages\\sklearn\\svm\\_base.py:284: ConvergenceWarning: Solver terminated early (max_iter=100).  Consider pre-processing your data with StandardScaler or MinMaxScaler.\n",
      "  warnings.warn(\n"
     ]
    },
    {
     "name": "stdout",
     "output_type": "stream",
     "text": [
      "2/2 [==============================] - 6s 1s/step\n",
      "Accuracy: 75.00%\n",
      "F1: 0.77\n",
      "AuC: 0.77\n",
      "Precision : 65.38%\n",
      "Recall : 94.44%\n",
      "Run time: 5.84s \n"
     ]
    }
   ],
   "source": [
    "# After tuning SVM\n",
    "svm_model = svm.SVC(C=0.1, \n",
    "                    gamma=1, \n",
    "                    kernel='linear',\n",
    "                    tol=0.001,\n",
    "                    max_iter=100, \n",
    "                    probability=True)\n",
    "\n",
    "svm_model.fit(features,y_train)\n",
    "\n",
    "start_SVM = time.perf_counter()\n",
    "X_test_feature = VGG_model.predict(np.array(X_test))\n",
    "X_test_features = X_test_feature.reshape(X_test_feature.shape[0], -1)\n",
    "prediction_SVM = svm_model.predict(X_test_features)\n",
    "runtimes_SVM = time.perf_counter() - start_SVM\n",
    "\n",
    "print (\"Accuracy: {:.2f}%\".format(metrics.accuracy_score(y_test, prediction_SVM)*100))\n",
    "print(\"F1: {:.2f}\".format(metrics.f1_score(y_test,prediction_SVM)))\n",
    "print(\"AuC: {:.2f}\".format(metrics.roc_auc_score(y_test, prediction_SVM)))\n",
    "print(\"Precision : {:.2f}%\".format(metrics.precision_score(y_test, prediction_SVM)*100))\n",
    "print(\"Recall : {:.2f}%\".format(metrics.recall_score(np.array(y_test), prediction_SVM)*100))\n",
    "print(\"Run time: {:.2f}s \".format(runtimes_SVM))"
   ]
  },
  {
   "cell_type": "code",
   "execution_count": 15,
   "metadata": {},
   "outputs": [
    {
     "name": "stdout",
     "output_type": "stream",
     "text": [
      "2/2 [==============================] - 6s 1s/step\n",
      "Accuracy: 67.50%\n",
      "F1: 0.71\n",
      "AuC: 0.69\n",
      "Precision : 59.26%\n",
      "Recall : 88.89%\n",
      "Run time: 5.69s \n"
     ]
    }
   ],
   "source": [
    "# After tune RF\n",
    "RF_model = RandomForestClassifier(n_estimators = 400, \n",
    "                                  min_samples_split=10,\n",
    "                                  max_leaf_nodes=None,\n",
    "                                  max_features='log2',\n",
    "                                  max_depth=7,\n",
    "                                  criterion='entropy',\n",
    "                                  random_state = 42)\n",
    "\n",
    "RF_model.fit(features, y_train)\n",
    "\n",
    "start_RF = time.perf_counter()\n",
    "X_test_feature = VGG_model.predict(np.array(X_test))\n",
    "X_test_features = X_test_feature.reshape(X_test_feature.shape[0], -1)\n",
    "prediction_RF = RF_model.predict(X_test_features)\n",
    "runtimes_RF = time.perf_counter() - start_RF\n",
    "\n",
    "print (\"Accuracy: {:.2f}%\".format(metrics.accuracy_score(y_test, prediction_RF)*100))\n",
    "print(\"F1: {:.2f}\".format(metrics.f1_score(y_test,prediction_RF)))\n",
    "print(\"AuC: {:.2f}\".format(metrics.roc_auc_score(y_test, prediction_RF)))\n",
    "print(\"Precision : {:.2f}%\".format(metrics.precision_score(y_test, prediction_RF)*100))\n",
    "print(\"Recall : {:.2f}%\".format(metrics.recall_score(np.array(y_test), prediction_RF)*100))\n",
    "print(\"Run time: {:.2f}s \".format(runtimes_RF))"
   ]
  }
 ],
 "metadata": {
  "kernelspec": {
   "display_name": "image-process",
   "language": "python",
   "name": "python3"
  },
  "language_info": {
   "codemirror_mode": {
    "name": "ipython",
    "version": 3
   },
   "file_extension": ".py",
   "mimetype": "text/x-python",
   "name": "python",
   "nbconvert_exporter": "python",
   "pygments_lexer": "ipython3",
   "version": "3.10.4"
  },
  "orig_nbformat": 4
 },
 "nbformat": 4,
 "nbformat_minor": 2
}
